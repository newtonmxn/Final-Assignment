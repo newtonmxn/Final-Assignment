{
 "cells": [
  {
   "cell_type": "markdown",
   "id": "026dd9e3-1a78-46eb-b937-2699887b5d54",
   "metadata": {},
   "source": [
    "Data Science Tools and Ecosystem"
   ]
  },
  {
   "cell_type": "markdown",
   "id": "50b89547-4960-406f-a7bd-80e38e3eab24",
   "metadata": {},
   "source": [
    "In this notebook, Data Science Tools and Ecosystem are summarized."
   ]
  },
  {
   "cell_type": "markdown",
   "id": "8b5d6236-3b58-469c-bdfc-a051a903753f",
   "metadata": {},
   "source": [
    "**Objectives:**\n",
    "- List popular languages for Data Science.\n",
    "- Explore commonly used libraries in Data Science\n",
    "- Create tables to organize Data Science\n",
    "- Write Python code to evaluate arithmetic expressions.\n",
    "- Practice Markdown formatting and documentation in Jupyter Notebook."
   ]
  },
  {
   "cell_type": "markdown",
   "id": "89bfd477-4eb7-4f1a-a9b7-447e6c8a9af7",
   "metadata": {},
   "source": [
    "Some of the popular languages that Data Scientists use are:\n",
    "1. Python\n",
    "2. R\n",
    "3. SQL\n",
    "4. Julia\n",
    "5. Scala"
   ]
  },
  {
   "cell_type": "markdown",
   "id": "6ebc9225-2c8c-45c0-a83f-22842b52dca7",
   "metadata": {},
   "source": [
    "Some of the commonly used libraries for Data Science are:\n",
    "- NumPy\n",
    "- Pandas\n",
    "- Matplotlib\n",
    "- Sickit-learn\n",
    "- TensorFlow"
   ]
  },
  {
   "cell_type": "markdown",
   "id": "dec25d39-2a9c-4b68-bb6b-9a29baf1b4f2",
   "metadata": {},
   "source": [
    "| Data Science Tools        |\n",
    "|---------------------------|\n",
    "| Jupyter Notebook          |\n",
    "| RStudio                   |\n",
    "| Spyder                    |"
   ]
  },
  {
   "cell_type": "markdown",
   "id": "ca419369-e514-4a27-beb5-963102a53a68",
   "metadata": {},
   "source": [
    "### Below are a few examples of evaluating arithmetic expressions in Python"
   ]
  },
  {
   "cell_type": "code",
   "execution_count": 1,
   "id": "451ac636-7edc-4cc0-b361-ce53219872bc",
   "metadata": {},
   "outputs": [
    {
     "name": "stdout",
     "output_type": "stream",
     "text": [
      "5+3= 8\n",
      "10-4= 6\n"
     ]
    }
   ],
   "source": [
    "# Example 1: Addition\n",
    "result_add = 5+3\n",
    "print(\"5+3=\", result_add)\n",
    "\n",
    "#Example 2 Subtraction\n",
    "result_minus = 10-4\n",
    "print(\"10-4=\", result_minus)"
   ]
  },
  {
   "cell_type": "code",
   "execution_count": 2,
   "id": "d7693023-b136-4573-8644-d34dfd25b4ea",
   "metadata": {},
   "outputs": [
    {
     "data": {
      "text/plain": [
       "17"
      ]
     },
     "execution_count": 2,
     "metadata": {},
     "output_type": "execute_result"
    }
   ],
   "source": [
    "#This is a simple Arithmetic expression to multiply then add integers\n",
    "(3*4)+5"
   ]
  },
  {
   "cell_type": "code",
   "execution_count": 3,
   "id": "9fed2c63-0d2c-4f3e-81cb-749c9fb5f983",
   "metadata": {},
   "outputs": [
    {
     "data": {
      "text/plain": [
       "3"
      ]
     },
     "execution_count": 3,
     "metadata": {},
     "output_type": "execute_result"
    }
   ],
   "source": [
    "#This will convert 200 minutes to hours by dividing by 60\n",
    "200//60"
   ]
  },
  {
   "cell_type": "markdown",
   "id": "6faf48e9-05f6-4e55-bf54-be27356b13a5",
   "metadata": {},
   "source": [
    "## Author\n",
    "Newton Sutradhar"
   ]
  },
  {
   "cell_type": "code",
   "execution_count": null,
   "id": "aa82f82b-3bc0-4af3-97e2-dd28d54593a9",
   "metadata": {},
   "outputs": [],
   "source": []
  }
 ],
 "metadata": {
  "kernelspec": {
   "display_name": "Python 3 (ipykernel)",
   "language": "python",
   "name": "python3"
  },
  "language_info": {
   "codemirror_mode": {
    "name": "ipython",
    "version": 3
   },
   "file_extension": ".py",
   "mimetype": "text/x-python",
   "name": "python",
   "nbconvert_exporter": "python",
   "pygments_lexer": "ipython3",
   "version": "3.12.8"
  }
 },
 "nbformat": 4,
 "nbformat_minor": 5
}
